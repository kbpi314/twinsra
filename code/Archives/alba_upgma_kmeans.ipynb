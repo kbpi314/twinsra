{
 "cells": [
  {
   "cell_type": "code",
   "execution_count": null,
   "metadata": {},
   "outputs": [],
   "source": [
    "# import libraries\n",
    "import pandas as pd\n",
    "import scipy.stats\n",
    "import statsmodels.stats.multitest\n",
    "import matplotlib.pyplot as plt\n",
    "import seaborn as sns\n",
    "import numpy as np\n",
    "\n",
    "# project specific libs\n",
    "import os\n",
    "import matplotlib.pyplot as plt\n",
    "import pathlib"
   ]
  },
  {
   "cell_type": "code",
   "execution_count": null,
   "metadata": {},
   "outputs": [],
   "source": [
    "# ALBA UPGMA and KMEANS\n",
    "from scipy.spatial import distance\n",
    "from scipy.cluster import hierarchy\n",
    "from sklearn.metrics import v_measure_score, silhouette_score\n",
    "from scipy.cluster.vq import whiten\n",
    "\n",
    "# load in alba df after converting to tsv\n",
    "df_bc = pd.read_csv(path + 'outputs/jobs15/distance-matrix.tsv', sep='\\t', index_col=0)\n",
    "samples = df_bc.index.values\n",
    "X = df_bc.values\n",
    "\n",
    "# UPGMA\n",
    "# this function magically works both ways!\n",
    "# get condensed distance matrix\n",
    "# condensed_dist = distance.pdist(data, metric='euclidean')\n",
    "condensed_dist = distance.squareform(X)\n",
    "\n",
    "# construct linkages\n",
    "linkages = hierarchy.linkage(condensed_dist, method='average', metric='euclidian')\n",
    "\n",
    "# kmeans raw data\n",
    "df_asv = pd.read_csv(path + 'outputs/jobs15/no-clades-table-I7-spp.tsv', sep='\\t', index_col=0).T\n",
    "# normalize by row total\n",
    "df_asv = df_asv.div(df_asv.sum(axis=1), axis=0)\n",
    "X = df_asv.values\n",
    "\n",
    "# whiten data (scaling)\n",
    "features = whiten(X)\n",
    "\n",
    "data = {}\n",
    "data['samples'] = samples\n",
    "\n",
    "for k in [2,3]:\n",
    "    # get cut for k clusters\n",
    "    cut = hierarchy.fcluster(linkages, k, criterion='maxclust')\n",
    "    ss = silhouette_score(X, cut, metric='euclidean')\n",
    "    print(ss)\n",
    "    col = 'UPGMA_' + str(k)\n",
    "    data[col] = cut\n",
    "    \n",
    "    centroid, label = scipy.cluster.vq.kmeans2(features, iter=100, k=k)#, iter=20, thresh=1e-05, check_finite=True, *, seed=None)\n",
    "    ss = silhouette_score(X, label, metric='euclidean')\n",
    "    print(ss)\n",
    "\n",
    "    col = 'kmeans_' + str(k) \n",
    "    data[col] = label\n",
    "\n",
    "df = pd.DataFrame.from_dict(data)\n",
    "df = df.set_index('samples')\n",
    "df.to_csv(path + 'outputs/jobs15/UPGMA_kmeans_2_3.tsv', sep='\\t')\n",
    "df"
   ]
  }
 ],
 "metadata": {
  "kernelspec": {
   "display_name": "Python 3",
   "language": "python",
   "name": "python3"
  },
  "language_info": {
   "codemirror_mode": {
    "name": "ipython",
    "version": 3
   },
   "file_extension": ".py",
   "mimetype": "text/x-python",
   "name": "python",
   "nbconvert_exporter": "python",
   "pygments_lexer": "ipython3",
   "version": "3.7.4"
  }
 },
 "nbformat": 4,
 "nbformat_minor": 4
}
