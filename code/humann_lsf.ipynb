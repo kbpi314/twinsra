{
 "cells": [
  {
   "cell_type": "code",
   "execution_count": 6,
   "metadata": {},
   "outputs": [],
   "source": [
    "# import libraries\n",
    "import pandas as pd\n",
    "import scipy.stats\n",
    "import statsmodels.stats.multitest\n",
    "import matplotlib.pyplot as plt\n",
    "import seaborn as sns\n",
    "import numpy as np\n",
    "\n",
    "# project specific libs\n",
    "import os\n",
    "import matplotlib.pyplot as plt\n",
    "import pathlib\n"
   ]
  },
  {
   "cell_type": "code",
   "execution_count": 2,
   "metadata": {},
   "outputs": [],
   "source": [
    "path = '/Users/KevinBu/Desktop/clemente_lab/Projects/twinsra/'"
   ]
  },
  {
   "cell_type": "code",
   "execution_count": 14,
   "metadata": {},
   "outputs": [
    {
     "name": "stdout",
     "output_type": "stream",
     "text": [
      "['502A', '514A', '515A', '503A', '504A', '512A', '508A', '509A', '513A', '505A', '510A', '506A', '507A', '511A', '516A', '500A', '501A', '517A']\n"
     ]
    }
   ],
   "source": [
    "# grab file paths\n",
    "lsf_fps = pathlib.Path(path + 'code/ensemble/twinsra/tool_scripts/Humann2/jobs/').glob('*')\n",
    "\n",
    "# grab sample ids\n",
    "sample_ids = []\n",
    "for fp in lsf_fps:\n",
    "    name = fp.stem\n",
    "    sample_ids.append(name.split('_')[-1])\n",
    "    \n",
    "print(sample_ids)"
   ]
  },
  {
   "cell_type": "code",
   "execution_count": 20,
   "metadata": {},
   "outputs": [
    {
     "name": "stdout",
     "output_type": "stream",
     "text": [
      "Done\n"
     ]
    }
   ],
   "source": [
    "for sample_id in sample_ids:\n",
    "    with open(path + 'code/ensemble/twinsra/tool_scripts/Humann2/jobs/humann2_' + sample_id + '_mod.lsf', 'w') as f:\n",
    "        f.write('#!/bin/bash')\n",
    "        f.write('\\n')\n",
    "        f.write('#BSUB -P acc_clemej05a')\n",
    "        f.write('\\n')\n",
    "        f.write('#BSUB -n 1')\n",
    "        f.write('\\n')\n",
    "        f.write('#BSUB -q premium')\n",
    "        f.write('\\n')\n",
    "        f.write('#BSUB -W 24:00')\n",
    "        f.write('\\n')\n",
    "        f.write('#BSUB -J humann2_' + sample_id)#502A')\n",
    "        f.write('\\n')\n",
    "        f.write('#BSUB -R \"span[hosts=1]\"')\n",
    "        f.write('\\n')\n",
    "        f.write('#BSUB -R rusage[mem=30000]')\n",
    "        f.write('\\n')\n",
    "        f.write('#BSUB -o /sc/arion/projects/clemej05a/kevin/twinsra/outputs/ensemble_humann3/twinsra/tool_logging/Humann2/%J.stdout')\n",
    "        f.write('\\n')\n",
    "        f.write('#BSUB -eo /sc/arion/projects/clemej05a/kevin/twinsra/outputs/ensemble_humann3/twinsra/tool_logging/Humann2/%J.stderr')\n",
    "        f.write('\\n')\n",
    "        f.write('#BSUB -L /bin/bash')\n",
    "        f.write('\\n')\n",
    "        f.write('\\n')\n",
    "        f.write('mkdir /sc/arion/projects/clemej05a/kevin/twinsra/outputs/ensemble_humann3/twinsra/temp_data/Humann2/' + sample_id + '/')\n",
    "        f.write('\\n')\n",
    "        f.write('gunzip -c /sc/arion/projects/clemej05a/PsA_IL17/inputs/Metagenomes/combined/twinsra/' + sample_id + '_R1.fastq.gz > /sc/arion/projects/clemej05a/kevin/twinsra/outputs/ensemble_humann3/twinsra/temp_data/Humann2/' + sample_id + '/' + sample_id + '_R1.fastq')\n",
    "        f.write('\\n')\n",
    "        f.write('gunzip -c /sc/arion/projects/clemej05a/PsA_IL17/inputs/Metagenomes/combined/twinsra/' + sample_id + '_R2.fastq.gz > /sc/arion/projects/clemej05a/kevin/twinsra/outputs/ensemble_humann3/twinsra/temp_data/Humann2/' + sample_id + '/' + sample_id + '_R2.fastq')\n",
    "        f.write('\\n')\n",
    "        f.write('cat /sc/arion/projects/clemej05a/kevin/twinsra/outputs/ensemble_humann3/twinsra/temp_data/Humann2/' + sample_id + '/' + sample_id + '_R1.fastq /sc/arion/projects/clemej05a/kevin/twinsra/outputs/ensemble_humann3/twinsra/temp_data/Humann2/' + sample_id + '/' + sample_id + '_R2.fastq > /sc/arion/projects/clemej05a/kevin/twinsra/outputs/ensemble_humann3/twinsra/temp_data/Humann2/' + sample_id + '/' + sample_id + '.fastq')\n",
    "        f.write('\\n')\n",
    "        f.write('\\n')\n",
    "        f.write('module purge')\n",
    "        f.write('\\n')\n",
    "        f.write('ml anaconda3')\n",
    "        f.write('\\n')\n",
    "        f.write('source activate /sc/arion/projects/clemej05a/adam/conda/envs/humann3')\n",
    "        f.write('\\n')\n",
    "        f.write('\\n')\n",
    "        f.write('humann --input /sc/arion/projects/clemej05a/kevin/twinsra/outputs/ensemble_humann3/twinsra/temp_data/Humann2/' + sample_id + '/' + sample_id + '.fastq --output /sc/arion/projects/clemej05a/kevin/twinsra/outputs/ensemble_humann3/twinsra/tool_output/Humann2/' + sample_id + ' --metaphlan-options \"-t rel_ab_w_read_stats --bowtie2db /sc/arion/projects/CVDlung/databases/ensemble-metaphlan\" --nucleotide-database /sc/arion/projects/clemej05a/adam/databases/humann3/chocophlan --protein-database /sc/arion/projects/clemej05a/adam/databases/humann3/uniref')\n",
    "        f.write('\\n')\n",
    "        f.write('rm -rf /sc/arion/projects/clemej05a/kevin/twinsra/outputs/ensemble_humann3/twinsra/temp_data/Humann2/' + sample_id)\n",
    "        f.write('\\n')\n",
    "\n",
    "print('Done')\n"
   ]
  },
  {
   "cell_type": "code",
   "execution_count": null,
   "metadata": {},
   "outputs": [],
   "source": []
  }
 ],
 "metadata": {
  "kernelspec": {
   "display_name": "Python 3",
   "language": "python",
   "name": "python3"
  },
  "language_info": {
   "codemirror_mode": {
    "name": "ipython",
    "version": 3
   },
   "file_extension": ".py",
   "mimetype": "text/x-python",
   "name": "python",
   "nbconvert_exporter": "python",
   "pygments_lexer": "ipython3",
   "version": "3.7.4"
  }
 },
 "nbformat": 4,
 "nbformat_minor": 4
}
