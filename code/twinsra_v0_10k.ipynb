{
 "cells": [
  {
   "cell_type": "code",
   "execution_count": 3,
   "metadata": {},
   "outputs": [],
   "source": [
    "# import libraries\n",
    "import pandas as pd\n",
    "import scipy.stats\n",
    "import statsmodels.stats.multitest\n",
    "import matplotlib.pyplot as plt\n",
    "import seaborn as sns\n",
    "import numpy as np\n",
    "\n",
    "# project specific libs\n",
    "import os\n",
    "import matplotlib.pyplot as plt"
   ]
  },
  {
   "cell_type": "code",
   "execution_count": 4,
   "metadata": {},
   "outputs": [],
   "source": [
    "# set project path\n",
    "path = '/Users/KevinBu/Desktop/clemente_lab/Projects/twinsra/'"
   ]
  },
  {
   "cell_type": "code",
   "execution_count": 5,
   "metadata": {},
   "outputs": [
    {
     "data": {
      "text/html": [
       "<div>\n",
       "<style scoped>\n",
       "    .dataframe tbody tr th:only-of-type {\n",
       "        vertical-align: middle;\n",
       "    }\n",
       "\n",
       "    .dataframe tbody tr th {\n",
       "        vertical-align: top;\n",
       "    }\n",
       "\n",
       "    .dataframe thead th {\n",
       "        text-align: right;\n",
       "    }\n",
       "</style>\n",
       "<table border=\"1\" class=\"dataframe\">\n",
       "  <thead>\n",
       "    <tr style=\"text-align: right;\">\n",
       "      <th></th>\n",
       "      <th>TwinPair</th>\n",
       "      <th>Diagnosis</th>\n",
       "    </tr>\n",
       "    <tr>\n",
       "      <th>#SampleID</th>\n",
       "      <th></th>\n",
       "      <th></th>\n",
       "    </tr>\n",
       "  </thead>\n",
       "  <tbody>\n",
       "    <tr>\n",
       "      <th>500A.Fecal</th>\n",
       "      <td>T2</td>\n",
       "      <td>RA</td>\n",
       "    </tr>\n",
       "    <tr>\n",
       "      <th>501A.Fecal</th>\n",
       "      <td>T2</td>\n",
       "      <td>Unaffected</td>\n",
       "    </tr>\n",
       "    <tr>\n",
       "      <th>502A.Fecal</th>\n",
       "      <td>T3</td>\n",
       "      <td>RA</td>\n",
       "    </tr>\n",
       "    <tr>\n",
       "      <th>503A.Fecal</th>\n",
       "      <td>T3</td>\n",
       "      <td>Unaffected</td>\n",
       "    </tr>\n",
       "    <tr>\n",
       "      <th>504A.Fecal</th>\n",
       "      <td>T4</td>\n",
       "      <td>RA</td>\n",
       "    </tr>\n",
       "  </tbody>\n",
       "</table>\n",
       "</div>"
      ],
      "text/plain": [
       "           TwinPair   Diagnosis\n",
       "#SampleID                      \n",
       "500A.Fecal       T2          RA\n",
       "501A.Fecal       T2  Unaffected\n",
       "502A.Fecal       T3          RA\n",
       "503A.Fecal       T3  Unaffected\n",
       "504A.Fecal       T4          RA"
      ]
     },
     "execution_count": 5,
     "metadata": {},
     "output_type": "execute_result"
    }
   ],
   "source": [
    "# grab mapping file, partition samples and controls\n",
    "df_map = pd.read_csv(path + 'inputs/Qiime2_0_KB/qiime_mapping_file_noctrl_no182183.tsv', sep='\\t', index_col=0)\n",
    "\n",
    "# get first row for any future operations\n",
    "first_row = df_map.reset_index().iloc[0,]\n",
    "first_row_df = pd.DataFrame(first_row).T\n",
    "df_map = df_map.iloc[1:,]\n",
    "\n",
    "# remove separate and together columns\n",
    "df_map = df_map.drop(['Separate','Together'], axis=1)\n",
    "\n",
    "# subset on useful columns\n",
    "# TwinPair and Diagnosis are useful columns\n",
    "df_map = df_map.loc[:,['TwinPair','Diagnosis']]\n",
    "\n",
    "df_map.head()"
   ]
  },
  {
   "cell_type": "code",
   "execution_count": 73,
   "metadata": {},
   "outputs": [
    {
     "data": {
      "text/html": [
       "<div>\n",
       "<style scoped>\n",
       "    .dataframe tbody tr th:only-of-type {\n",
       "        vertical-align: middle;\n",
       "    }\n",
       "\n",
       "    .dataframe tbody tr th {\n",
       "        vertical-align: top;\n",
       "    }\n",
       "\n",
       "    .dataframe thead th {\n",
       "        text-align: right;\n",
       "    }\n",
       "</style>\n",
       "<table border=\"1\" class=\"dataframe\">\n",
       "  <thead>\n",
       "    <tr style=\"text-align: right;\">\n",
       "      <th></th>\n",
       "      <th>Unassigned;__;__;__;__;__;__</th>\n",
       "      <th>k__Archaea;__;__;__;__;__;__</th>\n",
       "      <th>k__Archaea;p__Crenarchaeota;c__Thaumarchaeota;o__Cenarchaeales;__;__;__</th>\n",
       "      <th>k__Archaea;p__Crenarchaeota;c__Thaumarchaeota;o__Cenarchaeales;f__Cenarchaeaceae;__;__</th>\n",
       "      <th>k__Archaea;p__Crenarchaeota;c__Thaumarchaeota;o__Cenarchaeales;f__Cenarchaeaceae;g__;s__</th>\n",
       "      <th>k__Archaea;p__Crenarchaeota;c__Thaumarchaeota;o__Cenarchaeales;f__Cenarchaeaceae;g__Nitrosopumilus;s__</th>\n",
       "      <th>k__Archaea;p__Crenarchaeota;c__Thaumarchaeota;o__Cenarchaeales;f__SAGMA-X;g__;s__</th>\n",
       "      <th>k__Archaea;p__Crenarchaeota;c__Thaumarchaeota;o__Cenarchaeales;f__SAGMA-X;g__Nitrosotalea;s__devanaterra</th>\n",
       "      <th>k__Archaea;p__Euryarchaeota;c__DSEG;o__ArcA07;f__;g__;s__</th>\n",
       "      <th>k__Archaea;p__Euryarchaeota;c__Methanobacteria;o__Methanobacteriales;f__Methanobacteriaceae;g__Methanobacterium;__</th>\n",
       "      <th>...</th>\n",
       "      <th>k__Bacteria;p__Verrucomicrobia;c__[Pedosphaerae];o__[Pedosphaerales];f__Ellin517;g__;s__</th>\n",
       "      <th>k__Bacteria;p__Verrucomicrobia;c__[Pedosphaerae];o__[Pedosphaerales];f__R4-41B;g__;s__</th>\n",
       "      <th>k__Bacteria;p__Verrucomicrobia;c__[Pedosphaerae];o__[Pedosphaerales];f__auto67_4W;g__;s__</th>\n",
       "      <th>k__Bacteria;p__Verrucomicrobia;c__[Spartobacteria];o__[Chthoniobacterales];f__[Chthoniobacteraceae];g__;s__</th>\n",
       "      <th>k__Bacteria;p__WPS-2;c__;o__;f__;g__;s__</th>\n",
       "      <th>k__Bacteria;p__WS3;c__PRR-12;o__Sediment-1;__;__;__</th>\n",
       "      <th>k__Bacteria;p__WS3;c__PRR-12;o__Sediment-1;f__;g__;s__</th>\n",
       "      <th>k__Bacteria;p__WS3;c__PRR-12;o__Sediment-1;f__PRR-10;g__;s__</th>\n",
       "      <th>k__Bacteria;p__ZB3;__;__;__;__;__</th>\n",
       "      <th>k__Bacteria;p__ZB3;c__BS119;o__;f__;g__;s__</th>\n",
       "    </tr>\n",
       "    <tr>\n",
       "      <th>index</th>\n",
       "      <th></th>\n",
       "      <th></th>\n",
       "      <th></th>\n",
       "      <th></th>\n",
       "      <th></th>\n",
       "      <th></th>\n",
       "      <th></th>\n",
       "      <th></th>\n",
       "      <th></th>\n",
       "      <th></th>\n",
       "      <th></th>\n",
       "      <th></th>\n",
       "      <th></th>\n",
       "      <th></th>\n",
       "      <th></th>\n",
       "      <th></th>\n",
       "      <th></th>\n",
       "      <th></th>\n",
       "      <th></th>\n",
       "      <th></th>\n",
       "      <th></th>\n",
       "    </tr>\n",
       "  </thead>\n",
       "  <tbody>\n",
       "    <tr>\n",
       "      <th>182A.Fecal</th>\n",
       "      <td>0.0</td>\n",
       "      <td>0.00000</td>\n",
       "      <td>0.000148</td>\n",
       "      <td>0.0</td>\n",
       "      <td>0.0</td>\n",
       "      <td>0.00000</td>\n",
       "      <td>0.001531</td>\n",
       "      <td>0.0</td>\n",
       "      <td>0.0</td>\n",
       "      <td>0.0</td>\n",
       "      <td>...</td>\n",
       "      <td>0.0</td>\n",
       "      <td>0.0</td>\n",
       "      <td>0.0</td>\n",
       "      <td>0.000605</td>\n",
       "      <td>0.0</td>\n",
       "      <td>0.000594</td>\n",
       "      <td>0.0</td>\n",
       "      <td>0.0</td>\n",
       "      <td>0.0</td>\n",
       "      <td>0.000000</td>\n",
       "    </tr>\n",
       "    <tr>\n",
       "      <th>183A.Fecal</th>\n",
       "      <td>0.0</td>\n",
       "      <td>0.00012</td>\n",
       "      <td>0.000167</td>\n",
       "      <td>0.0</td>\n",
       "      <td>0.0</td>\n",
       "      <td>0.00047</td>\n",
       "      <td>0.000000</td>\n",
       "      <td>0.0</td>\n",
       "      <td>0.0</td>\n",
       "      <td>0.0</td>\n",
       "      <td>...</td>\n",
       "      <td>0.0</td>\n",
       "      <td>0.0</td>\n",
       "      <td>0.0</td>\n",
       "      <td>0.000375</td>\n",
       "      <td>0.0</td>\n",
       "      <td>0.000120</td>\n",
       "      <td>0.0</td>\n",
       "      <td>0.0</td>\n",
       "      <td>0.0</td>\n",
       "      <td>0.000000</td>\n",
       "    </tr>\n",
       "    <tr>\n",
       "      <th>500A.Fecal</th>\n",
       "      <td>0.0</td>\n",
       "      <td>0.00000</td>\n",
       "      <td>0.000000</td>\n",
       "      <td>0.0</td>\n",
       "      <td>0.0</td>\n",
       "      <td>0.00000</td>\n",
       "      <td>0.000000</td>\n",
       "      <td>0.0</td>\n",
       "      <td>0.0</td>\n",
       "      <td>0.0</td>\n",
       "      <td>...</td>\n",
       "      <td>0.0</td>\n",
       "      <td>0.0</td>\n",
       "      <td>0.0</td>\n",
       "      <td>0.002825</td>\n",
       "      <td>0.0</td>\n",
       "      <td>0.000000</td>\n",
       "      <td>0.0</td>\n",
       "      <td>0.0</td>\n",
       "      <td>0.0</td>\n",
       "      <td>0.000000</td>\n",
       "    </tr>\n",
       "    <tr>\n",
       "      <th>501A.Fecal</th>\n",
       "      <td>0.0</td>\n",
       "      <td>0.00000</td>\n",
       "      <td>0.000000</td>\n",
       "      <td>0.0</td>\n",
       "      <td>0.0</td>\n",
       "      <td>0.00000</td>\n",
       "      <td>0.000000</td>\n",
       "      <td>0.0</td>\n",
       "      <td>0.0</td>\n",
       "      <td>0.0</td>\n",
       "      <td>...</td>\n",
       "      <td>0.0</td>\n",
       "      <td>0.0</td>\n",
       "      <td>0.0</td>\n",
       "      <td>0.000000</td>\n",
       "      <td>0.0</td>\n",
       "      <td>0.001800</td>\n",
       "      <td>0.0</td>\n",
       "      <td>0.0</td>\n",
       "      <td>0.0</td>\n",
       "      <td>0.000000</td>\n",
       "    </tr>\n",
       "    <tr>\n",
       "      <th>502A.Fecal</th>\n",
       "      <td>0.0</td>\n",
       "      <td>0.00000</td>\n",
       "      <td>0.000000</td>\n",
       "      <td>0.0</td>\n",
       "      <td>0.0</td>\n",
       "      <td>0.00000</td>\n",
       "      <td>0.000000</td>\n",
       "      <td>0.0</td>\n",
       "      <td>0.0</td>\n",
       "      <td>0.0</td>\n",
       "      <td>...</td>\n",
       "      <td>0.0</td>\n",
       "      <td>0.0</td>\n",
       "      <td>0.0</td>\n",
       "      <td>0.000000</td>\n",
       "      <td>0.0</td>\n",
       "      <td>0.000000</td>\n",
       "      <td>0.0</td>\n",
       "      <td>0.0</td>\n",
       "      <td>0.0</td>\n",
       "      <td>0.002229</td>\n",
       "    </tr>\n",
       "  </tbody>\n",
       "</table>\n",
       "<p>5 rows × 621 columns</p>\n",
       "</div>"
      ],
      "text/plain": [
       "            Unassigned;__;__;__;__;__;__  k__Archaea;__;__;__;__;__;__  \\\n",
       "index                                                                    \n",
       "182A.Fecal                           0.0                       0.00000   \n",
       "183A.Fecal                           0.0                       0.00012   \n",
       "500A.Fecal                           0.0                       0.00000   \n",
       "501A.Fecal                           0.0                       0.00000   \n",
       "502A.Fecal                           0.0                       0.00000   \n",
       "\n",
       "            k__Archaea;p__Crenarchaeota;c__Thaumarchaeota;o__Cenarchaeales;__;__;__  \\\n",
       "index                                                                                 \n",
       "182A.Fecal                                           0.000148                         \n",
       "183A.Fecal                                           0.000167                         \n",
       "500A.Fecal                                           0.000000                         \n",
       "501A.Fecal                                           0.000000                         \n",
       "502A.Fecal                                           0.000000                         \n",
       "\n",
       "            k__Archaea;p__Crenarchaeota;c__Thaumarchaeota;o__Cenarchaeales;f__Cenarchaeaceae;__;__  \\\n",
       "index                                                                                                \n",
       "182A.Fecal                                                0.0                                        \n",
       "183A.Fecal                                                0.0                                        \n",
       "500A.Fecal                                                0.0                                        \n",
       "501A.Fecal                                                0.0                                        \n",
       "502A.Fecal                                                0.0                                        \n",
       "\n",
       "            k__Archaea;p__Crenarchaeota;c__Thaumarchaeota;o__Cenarchaeales;f__Cenarchaeaceae;g__;s__  \\\n",
       "index                                                                                                  \n",
       "182A.Fecal                                                0.0                                          \n",
       "183A.Fecal                                                0.0                                          \n",
       "500A.Fecal                                                0.0                                          \n",
       "501A.Fecal                                                0.0                                          \n",
       "502A.Fecal                                                0.0                                          \n",
       "\n",
       "            k__Archaea;p__Crenarchaeota;c__Thaumarchaeota;o__Cenarchaeales;f__Cenarchaeaceae;g__Nitrosopumilus;s__  \\\n",
       "index                                                                                                                \n",
       "182A.Fecal                                            0.00000                                                        \n",
       "183A.Fecal                                            0.00047                                                        \n",
       "500A.Fecal                                            0.00000                                                        \n",
       "501A.Fecal                                            0.00000                                                        \n",
       "502A.Fecal                                            0.00000                                                        \n",
       "\n",
       "            k__Archaea;p__Crenarchaeota;c__Thaumarchaeota;o__Cenarchaeales;f__SAGMA-X;g__;s__  \\\n",
       "index                                                                                           \n",
       "182A.Fecal                                           0.001531                                   \n",
       "183A.Fecal                                           0.000000                                   \n",
       "500A.Fecal                                           0.000000                                   \n",
       "501A.Fecal                                           0.000000                                   \n",
       "502A.Fecal                                           0.000000                                   \n",
       "\n",
       "            k__Archaea;p__Crenarchaeota;c__Thaumarchaeota;o__Cenarchaeales;f__SAGMA-X;g__Nitrosotalea;s__devanaterra  \\\n",
       "index                                                                                                                  \n",
       "182A.Fecal                                                0.0                                                          \n",
       "183A.Fecal                                                0.0                                                          \n",
       "500A.Fecal                                                0.0                                                          \n",
       "501A.Fecal                                                0.0                                                          \n",
       "502A.Fecal                                                0.0                                                          \n",
       "\n",
       "            k__Archaea;p__Euryarchaeota;c__DSEG;o__ArcA07;f__;g__;s__  \\\n",
       "index                                                                   \n",
       "182A.Fecal                                                0.0           \n",
       "183A.Fecal                                                0.0           \n",
       "500A.Fecal                                                0.0           \n",
       "501A.Fecal                                                0.0           \n",
       "502A.Fecal                                                0.0           \n",
       "\n",
       "            k__Archaea;p__Euryarchaeota;c__Methanobacteria;o__Methanobacteriales;f__Methanobacteriaceae;g__Methanobacterium;__  \\\n",
       "index                                                                                                                            \n",
       "182A.Fecal                                                0.0                                                                    \n",
       "183A.Fecal                                                0.0                                                                    \n",
       "500A.Fecal                                                0.0                                                                    \n",
       "501A.Fecal                                                0.0                                                                    \n",
       "502A.Fecal                                                0.0                                                                    \n",
       "\n",
       "            ...  \\\n",
       "index       ...   \n",
       "182A.Fecal  ...   \n",
       "183A.Fecal  ...   \n",
       "500A.Fecal  ...   \n",
       "501A.Fecal  ...   \n",
       "502A.Fecal  ...   \n",
       "\n",
       "            k__Bacteria;p__Verrucomicrobia;c__[Pedosphaerae];o__[Pedosphaerales];f__Ellin517;g__;s__  \\\n",
       "index                                                                                                  \n",
       "182A.Fecal                                                0.0                                          \n",
       "183A.Fecal                                                0.0                                          \n",
       "500A.Fecal                                                0.0                                          \n",
       "501A.Fecal                                                0.0                                          \n",
       "502A.Fecal                                                0.0                                          \n",
       "\n",
       "            k__Bacteria;p__Verrucomicrobia;c__[Pedosphaerae];o__[Pedosphaerales];f__R4-41B;g__;s__  \\\n",
       "index                                                                                                \n",
       "182A.Fecal                                                0.0                                        \n",
       "183A.Fecal                                                0.0                                        \n",
       "500A.Fecal                                                0.0                                        \n",
       "501A.Fecal                                                0.0                                        \n",
       "502A.Fecal                                                0.0                                        \n",
       "\n",
       "            k__Bacteria;p__Verrucomicrobia;c__[Pedosphaerae];o__[Pedosphaerales];f__auto67_4W;g__;s__  \\\n",
       "index                                                                                                   \n",
       "182A.Fecal                                                0.0                                           \n",
       "183A.Fecal                                                0.0                                           \n",
       "500A.Fecal                                                0.0                                           \n",
       "501A.Fecal                                                0.0                                           \n",
       "502A.Fecal                                                0.0                                           \n",
       "\n",
       "            k__Bacteria;p__Verrucomicrobia;c__[Spartobacteria];o__[Chthoniobacterales];f__[Chthoniobacteraceae];g__;s__  \\\n",
       "index                                                                                                                     \n",
       "182A.Fecal                                           0.000605                                                             \n",
       "183A.Fecal                                           0.000375                                                             \n",
       "500A.Fecal                                           0.002825                                                             \n",
       "501A.Fecal                                           0.000000                                                             \n",
       "502A.Fecal                                           0.000000                                                             \n",
       "\n",
       "            k__Bacteria;p__WPS-2;c__;o__;f__;g__;s__  \\\n",
       "index                                                  \n",
       "182A.Fecal                                       0.0   \n",
       "183A.Fecal                                       0.0   \n",
       "500A.Fecal                                       0.0   \n",
       "501A.Fecal                                       0.0   \n",
       "502A.Fecal                                       0.0   \n",
       "\n",
       "            k__Bacteria;p__WS3;c__PRR-12;o__Sediment-1;__;__;__  \\\n",
       "index                                                             \n",
       "182A.Fecal                                           0.000594     \n",
       "183A.Fecal                                           0.000120     \n",
       "500A.Fecal                                           0.000000     \n",
       "501A.Fecal                                           0.001800     \n",
       "502A.Fecal                                           0.000000     \n",
       "\n",
       "            k__Bacteria;p__WS3;c__PRR-12;o__Sediment-1;f__;g__;s__  \\\n",
       "index                                                                \n",
       "182A.Fecal                                                0.0        \n",
       "183A.Fecal                                                0.0        \n",
       "500A.Fecal                                                0.0        \n",
       "501A.Fecal                                                0.0        \n",
       "502A.Fecal                                                0.0        \n",
       "\n",
       "            k__Bacteria;p__WS3;c__PRR-12;o__Sediment-1;f__PRR-10;g__;s__  \\\n",
       "index                                                                      \n",
       "182A.Fecal                                                0.0              \n",
       "183A.Fecal                                                0.0              \n",
       "500A.Fecal                                                0.0              \n",
       "501A.Fecal                                                0.0              \n",
       "502A.Fecal                                                0.0              \n",
       "\n",
       "            k__Bacteria;p__ZB3;__;__;__;__;__  \\\n",
       "index                                           \n",
       "182A.Fecal                                0.0   \n",
       "183A.Fecal                                0.0   \n",
       "500A.Fecal                                0.0   \n",
       "501A.Fecal                                0.0   \n",
       "502A.Fecal                                0.0   \n",
       "\n",
       "            k__Bacteria;p__ZB3;c__BS119;o__;f__;g__;s__  \n",
       "index                                                    \n",
       "182A.Fecal                                     0.000000  \n",
       "183A.Fecal                                     0.000000  \n",
       "500A.Fecal                                     0.000000  \n",
       "501A.Fecal                                     0.000000  \n",
       "502A.Fecal                                     0.002229  \n",
       "\n",
       "[5 rows x 621 columns]"
      ]
     },
     "execution_count": 73,
     "metadata": {},
     "output_type": "execute_result"
    }
   ],
   "source": [
    "# loop over L3, L6 and L7\n",
    "# look at Clostridia and Bacteroidia \n",
    "Lx_to_df = {}\n",
    "Lx_to_str = {\n",
    "    'L3': 'level-3_10k',\n",
    "    'L6': 'level-6_10k',\n",
    "    'L7': 'level-7_10k'\n",
    "}\n",
    "\n",
    "for l in Lx_to_str:\n",
    "    df_otu = pd.read_csv(path + 'inputs/Qiime2_0_KB/' + Lx_to_str[l] + '.csv',index_col=0)\n",
    "    \n",
    "    df_diag = df_otu['Diagnosis']\n",
    "    otu_cols = []\n",
    "\n",
    "    for c in list(df_otu.columns.values):\n",
    "        if '__' in c:\n",
    "            otu_cols.append(c)\n",
    "\n",
    "    # subset on OTU\n",
    "    df_otu = df_otu.loc[:,otu_cols]\n",
    "\n",
    "    # divide by row sum (i.e. sample count) to normalize\n",
    "    df_otu = df_otu.div(df_otu.sum(axis=1), axis=0)\n",
    "    \n",
    "    # save to dict\n",
    "    Lx_to_df[l] = df_otu\n",
    "\n",
    "df_otu.head()"
   ]
  },
  {
   "cell_type": "code",
   "execution_count": 17,
   "metadata": {},
   "outputs": [
    {
     "data": {
      "text/html": [
       "<div>\n",
       "<style scoped>\n",
       "    .dataframe tbody tr th:only-of-type {\n",
       "        vertical-align: middle;\n",
       "    }\n",
       "\n",
       "    .dataframe tbody tr th {\n",
       "        vertical-align: top;\n",
       "    }\n",
       "\n",
       "    .dataframe thead th {\n",
       "        text-align: right;\n",
       "    }\n",
       "</style>\n",
       "<table border=\"1\" class=\"dataframe\">\n",
       "  <thead>\n",
       "    <tr style=\"text-align: right;\">\n",
       "      <th></th>\n",
       "      <th>Shannon_Diff</th>\n",
       "    </tr>\n",
       "  </thead>\n",
       "  <tbody>\n",
       "    <tr>\n",
       "      <th>T1</th>\n",
       "      <td>-0.407445</td>\n",
       "    </tr>\n",
       "    <tr>\n",
       "      <th>T2</th>\n",
       "      <td>-0.273755</td>\n",
       "    </tr>\n",
       "    <tr>\n",
       "      <th>T3</th>\n",
       "      <td>0.331704</td>\n",
       "    </tr>\n",
       "    <tr>\n",
       "      <th>T4</th>\n",
       "      <td>0.048646</td>\n",
       "    </tr>\n",
       "    <tr>\n",
       "      <th>T5</th>\n",
       "      <td>1.907472</td>\n",
       "    </tr>\n",
       "    <tr>\n",
       "      <th>T6</th>\n",
       "      <td>-1.829056</td>\n",
       "    </tr>\n",
       "    <tr>\n",
       "      <th>T7</th>\n",
       "      <td>1.535143</td>\n",
       "    </tr>\n",
       "    <tr>\n",
       "      <th>T8</th>\n",
       "      <td>-0.327622</td>\n",
       "    </tr>\n",
       "    <tr>\n",
       "      <th>T9</th>\n",
       "      <td>1.788720</td>\n",
       "    </tr>\n",
       "    <tr>\n",
       "      <th>T10</th>\n",
       "      <td>-0.205716</td>\n",
       "    </tr>\n",
       "  </tbody>\n",
       "</table>\n",
       "</div>"
      ],
      "text/plain": [
       "     Shannon_Diff\n",
       "T1      -0.407445\n",
       "T2      -0.273755\n",
       "T3       0.331704\n",
       "T4       0.048646\n",
       "T5       1.907472\n",
       "T6      -1.829056\n",
       "T7       1.535143\n",
       "T8      -0.327622\n",
       "T9       1.788720\n",
       "T10     -0.205716"
      ]
     },
     "execution_count": 17,
     "metadata": {},
     "output_type": "execute_result"
    }
   ],
   "source": [
    "# paired shannon diversity difference from 0 \n",
    "df_alpha = pd.read_csv(path + 'inputs/Qiime2_0_KB/shannon_metadata_10k.tsv', sep='\\t', index_col=0)\n",
    "\n",
    "# drop unnecessary rows and cols\n",
    "df_alpha = df_alpha.drop('#q2:types')\n",
    "df_alpha = df_alpha.drop('Separate', axis=1)\n",
    "df_alpha = df_alpha.drop(['Elutionbuffer1','Elutionbuffer2','blank'])\n",
    "\n",
    "# get paired per twin pair\n",
    "pair_to_diff = {}\n",
    "for p in list(df_alpha.TwinPair.values):\n",
    "    df = df_alpha[df_alpha['TwinPair'] == p]\n",
    "    alpha_UA = float(df[df['Diagnosis'] == 'Unaffected']['shannon_entropy'].values)\n",
    "    alpha_RA = float(df[df['Diagnosis'] == 'RA']['shannon_entropy'].values)\n",
    "    pair_to_diff[p] = alpha_RA - alpha_UA\n",
    "\n",
    "df_paired_alpha = pd.DataFrame.from_dict(pair_to_diff, orient='index', columns=['Shannon_Diff'])\n",
    "df_paired_alpha"
   ]
  },
  {
   "cell_type": "code",
   "execution_count": 18,
   "metadata": {},
   "outputs": [
    {
     "name": "stdout",
     "output_type": "stream",
     "text": [
      "0.6923233992730163 0.5062023293175164\n"
     ]
    },
    {
     "data": {
      "text/plain": [
       "<matplotlib.axes._subplots.AxesSubplot at 0x7fbdd0aad750>"
      ]
     },
     "execution_count": 18,
     "metadata": {},
     "output_type": "execute_result"
    },
    {
     "data": {
      "image/png": "[encoded data removed]",
      "text/plain": [
       "<Figure size 432x288 with 1 Axes>"
      ]
     },
     "metadata": {
      "needs_background": "light"
     },
     "output_type": "display_data"
    }
   ],
   "source": [
    "# one-sided t-test, n.s.; RA-UA values \n",
    "t, p = scipy.stats.ttest_1samp(df_paired_alpha['Shannon_Diff'],popmean=0)\n",
    "print(t, p)\n",
    "\n",
    "# boxplot\n",
    "sns.boxplot(data=df_paired_alpha)"
   ]
  },
  {
   "cell_type": "code",
   "execution_count": 20,
   "metadata": {},
   "outputs": [
    {
     "data": {
      "text/html": [
       "<div>\n",
       "<style scoped>\n",
       "    .dataframe tbody tr th:only-of-type {\n",
       "        vertical-align: middle;\n",
       "    }\n",
       "\n",
       "    .dataframe tbody tr th {\n",
       "        vertical-align: top;\n",
       "    }\n",
       "\n",
       "    .dataframe thead th {\n",
       "        text-align: right;\n",
       "    }\n",
       "</style>\n",
       "<table border=\"1\" class=\"dataframe\">\n",
       "  <thead>\n",
       "    <tr style=\"text-align: right;\">\n",
       "      <th></th>\n",
       "      <th>Unweighted_Dist</th>\n",
       "    </tr>\n",
       "  </thead>\n",
       "  <tbody>\n",
       "    <tr>\n",
       "      <th>T1</th>\n",
       "      <td>0.700096</td>\n",
       "    </tr>\n",
       "    <tr>\n",
       "      <th>T2</th>\n",
       "      <td>0.698035</td>\n",
       "    </tr>\n",
       "    <tr>\n",
       "      <th>T3</th>\n",
       "      <td>0.779151</td>\n",
       "    </tr>\n",
       "    <tr>\n",
       "      <th>T4</th>\n",
       "      <td>0.779873</td>\n",
       "    </tr>\n",
       "    <tr>\n",
       "      <th>T5</th>\n",
       "      <td>0.866523</td>\n",
       "    </tr>\n",
       "    <tr>\n",
       "      <th>T6</th>\n",
       "      <td>0.816092</td>\n",
       "    </tr>\n",
       "    <tr>\n",
       "      <th>T7</th>\n",
       "      <td>0.646555</td>\n",
       "    </tr>\n",
       "    <tr>\n",
       "      <th>T8</th>\n",
       "      <td>0.648694</td>\n",
       "    </tr>\n",
       "    <tr>\n",
       "      <th>T9</th>\n",
       "      <td>0.736053</td>\n",
       "    </tr>\n",
       "    <tr>\n",
       "      <th>T10</th>\n",
       "      <td>0.676790</td>\n",
       "    </tr>\n",
       "  </tbody>\n",
       "</table>\n",
       "</div>"
      ],
      "text/plain": [
       "     Unweighted_Dist\n",
       "T1          0.700096\n",
       "T2          0.698035\n",
       "T3          0.779151\n",
       "T4          0.779873\n",
       "T5          0.866523\n",
       "T6          0.816092\n",
       "T7          0.646555\n",
       "T8          0.648694\n",
       "T9          0.736053\n",
       "T10         0.676790"
      ]
     },
     "execution_count": 20,
     "metadata": {},
     "output_type": "execute_result"
    }
   ],
   "source": [
    "# paired beta div: unweighted distances to compare inter-twin vs inter-disease distances\n",
    "# paired shannon diversity difference from 0 \n",
    "df_beta = pd.read_csv(path + 'inputs/Qiime2_0_KB/core_metrics_10k/unweighted_unifrac_distance_matrix.tsv', sep='\\t', index_col=0)\n",
    "\n",
    "# grab twin to pair dict\n",
    "pair_to_ids = {}\n",
    "for p in list(df_alpha.TwinPair.values):\n",
    "    df = df_alpha[df_alpha['TwinPair'] == p]\n",
    "    id_UA = str(df[df['Diagnosis'] == 'Unaffected'].index.values[0])\n",
    "    id_RA = str(df[df['Diagnosis'] == 'RA'].index.values[0])\n",
    "    pair_to_ids[p] = (id_UA, id_RA)\n",
    "\n",
    "# get distances for each twin pair per beta div matrix    \n",
    "pair_to_dist = {}\n",
    "for p in list(df_alpha.TwinPair.values):\n",
    "    id_UA, id_RA = pair_to_ids[p]\n",
    "    pair_to_dist[p] = df_beta.loc[id_UA, id_RA]\n",
    "\n",
    "df_paired_beta = pd.DataFrame.from_dict(pair_to_dist, orient='index', columns=['Unweighted_Dist'])\n",
    "df_paired_beta\n"
   ]
  },
  {
   "cell_type": "code",
   "execution_count": 44,
   "metadata": {},
   "outputs": [
    {
     "name": "stdout",
     "output_type": "stream",
     "text": [
      "-10.207956903186044 4.604717992358901e-13\n"
     ]
    },
    {
     "data": {
      "text/plain": [
       "<matplotlib.axes._subplots.AxesSubplot at 0x7fdec6344ad0>"
      ]
     },
     "execution_count": 44,
     "metadata": {},
     "output_type": "execute_result"
    },
    {
     "data": {
      "image/png": "[encoded data removed]",
      "text/plain": [
       "<Figure size 432x288 with 1 Axes>"
      ]
     },
     "metadata": {
      "needs_background": "light"
     },
     "output_type": "display_data"
    }
   ],
   "source": [
    "# grab inter RA distances\n",
    "df_raw = pd.read_csv(path + 'inputs/Qiime2_0_KB/unweighted_raw_data.tsv', sep='\\t', index_col=0)\n",
    "df_RA = df_raw[df_raw['Group1'] == 'RA']\n",
    "df_RA = df_RA[df_RA['Group2'] == 'RA']\n",
    "\n",
    "# compare distances\n",
    "inter_twin = df_paired_beta['Unweighted_Dist'].values\n",
    "inter_RA = df_RA['Distance'].values\n",
    "\n",
    "t, p = scipy.stats.ttest_ind(inter_twin, inter_RA)\n",
    "print(t, p)\n",
    "\n",
    "sns.boxplot([inter_twin, inter_RA])"
   ]
  },
  {
   "cell_type": "code",
   "execution_count": 22,
   "metadata": {},
   "outputs": [
    {
     "data": {
      "text/html": [
       "<div>\n",
       "<style scoped>\n",
       "    .dataframe tbody tr th:only-of-type {\n",
       "        vertical-align: middle;\n",
       "    }\n",
       "\n",
       "    .dataframe tbody tr th {\n",
       "        vertical-align: top;\n",
       "    }\n",
       "\n",
       "    .dataframe thead th {\n",
       "        text-align: right;\n",
       "    }\n",
       "</style>\n",
       "<table border=\"1\" class=\"dataframe\">\n",
       "  <thead>\n",
       "    <tr style=\"text-align: right;\">\n",
       "      <th>#OTU ID</th>\n",
       "      <th>k__Archaea;p__Crenarchaeota;c__Thaumarchaeota</th>\n",
       "      <th>k__Archaea;p__Euryarchaeota;c__Halobacteria</th>\n",
       "      <th>k__Archaea;p__Euryarchaeota;c__Methanobacteria</th>\n",
       "      <th>k__Archaea;p__Euryarchaeota;c__Thermoplasmata</th>\n",
       "      <th>k__Bacteria;p__Acidobacteria;c__Acidobacteria-6</th>\n",
       "      <th>k__Bacteria;p__Acidobacteria;c__Acidobacteriia</th>\n",
       "      <th>k__Bacteria;p__Acidobacteria;c__Holophagae</th>\n",
       "      <th>k__Bacteria;p__Acidobacteria;c__[Chloracidobacteria]</th>\n",
       "      <th>k__Bacteria;p__Actinobacteria;c__Acidimicrobiia</th>\n",
       "      <th>k__Bacteria;p__Actinobacteria;c__Actinobacteria</th>\n",
       "      <th>...</th>\n",
       "      <th>k__Bacteria;p__Tenericutes;c__Mollicutes</th>\n",
       "      <th>k__Bacteria;p__Tenericutes;c__RF3</th>\n",
       "      <th>k__Bacteria;p__Verrucomicrobia;c__Opitutae</th>\n",
       "      <th>k__Bacteria;p__Verrucomicrobia;c__Verruco-5</th>\n",
       "      <th>k__Bacteria;p__Verrucomicrobia;c__Verrucomicrobiae</th>\n",
       "      <th>k__Bacteria;p__Verrucomicrobia;c__[Pedosphaerae]</th>\n",
       "      <th>k__Bacteria;p__Verrucomicrobia;c__[Spartobacteria]</th>\n",
       "      <th>k__Bacteria;p__WPS-2;c__</th>\n",
       "      <th>k__Bacteria;p__WS3;c__PRR-12</th>\n",
       "      <th>k__Bacteria;p__[Thermi];c__Deinococci</th>\n",
       "    </tr>\n",
       "  </thead>\n",
       "  <tbody>\n",
       "    <tr>\n",
       "      <th>500A.Fecal</th>\n",
       "      <td>0.0</td>\n",
       "      <td>0.0</td>\n",
       "      <td>0.000098</td>\n",
       "      <td>0.000000</td>\n",
       "      <td>0.0</td>\n",
       "      <td>0.0</td>\n",
       "      <td>0.0</td>\n",
       "      <td>0.0</td>\n",
       "      <td>0.0</td>\n",
       "      <td>0.003838</td>\n",
       "      <td>...</td>\n",
       "      <td>0.000000</td>\n",
       "      <td>0.0</td>\n",
       "      <td>0.0</td>\n",
       "      <td>0.0</td>\n",
       "      <td>0.000049</td>\n",
       "      <td>0.0</td>\n",
       "      <td>0.0</td>\n",
       "      <td>0.0</td>\n",
       "      <td>0.0</td>\n",
       "      <td>0.0</td>\n",
       "    </tr>\n",
       "    <tr>\n",
       "      <th>501A.Fecal</th>\n",
       "      <td>0.0</td>\n",
       "      <td>0.0</td>\n",
       "      <td>0.000597</td>\n",
       "      <td>0.001247</td>\n",
       "      <td>0.0</td>\n",
       "      <td>0.0</td>\n",
       "      <td>0.0</td>\n",
       "      <td>0.0</td>\n",
       "      <td>0.0</td>\n",
       "      <td>0.001898</td>\n",
       "      <td>...</td>\n",
       "      <td>0.000000</td>\n",
       "      <td>0.0</td>\n",
       "      <td>0.0</td>\n",
       "      <td>0.0</td>\n",
       "      <td>0.011497</td>\n",
       "      <td>0.0</td>\n",
       "      <td>0.0</td>\n",
       "      <td>0.0</td>\n",
       "      <td>0.0</td>\n",
       "      <td>0.0</td>\n",
       "    </tr>\n",
       "    <tr>\n",
       "      <th>502A.Fecal</th>\n",
       "      <td>0.0</td>\n",
       "      <td>0.0</td>\n",
       "      <td>0.000000</td>\n",
       "      <td>0.000000</td>\n",
       "      <td>0.0</td>\n",
       "      <td>0.0</td>\n",
       "      <td>0.0</td>\n",
       "      <td>0.0</td>\n",
       "      <td>0.0</td>\n",
       "      <td>0.000149</td>\n",
       "      <td>...</td>\n",
       "      <td>0.000000</td>\n",
       "      <td>0.0</td>\n",
       "      <td>0.0</td>\n",
       "      <td>0.0</td>\n",
       "      <td>0.000025</td>\n",
       "      <td>0.0</td>\n",
       "      <td>0.0</td>\n",
       "      <td>0.0</td>\n",
       "      <td>0.0</td>\n",
       "      <td>0.0</td>\n",
       "    </tr>\n",
       "    <tr>\n",
       "      <th>503A.Fecal</th>\n",
       "      <td>0.0</td>\n",
       "      <td>0.0</td>\n",
       "      <td>0.000000</td>\n",
       "      <td>0.000000</td>\n",
       "      <td>0.0</td>\n",
       "      <td>0.0</td>\n",
       "      <td>0.0</td>\n",
       "      <td>0.0</td>\n",
       "      <td>0.0</td>\n",
       "      <td>0.000029</td>\n",
       "      <td>...</td>\n",
       "      <td>0.000000</td>\n",
       "      <td>0.0</td>\n",
       "      <td>0.0</td>\n",
       "      <td>0.0</td>\n",
       "      <td>0.000000</td>\n",
       "      <td>0.0</td>\n",
       "      <td>0.0</td>\n",
       "      <td>0.0</td>\n",
       "      <td>0.0</td>\n",
       "      <td>0.0</td>\n",
       "    </tr>\n",
       "    <tr>\n",
       "      <th>504A.Fecal</th>\n",
       "      <td>0.0</td>\n",
       "      <td>0.0</td>\n",
       "      <td>0.000000</td>\n",
       "      <td>0.000000</td>\n",
       "      <td>0.0</td>\n",
       "      <td>0.0</td>\n",
       "      <td>0.0</td>\n",
       "      <td>0.0</td>\n",
       "      <td>0.0</td>\n",
       "      <td>0.020568</td>\n",
       "      <td>...</td>\n",
       "      <td>0.000048</td>\n",
       "      <td>0.0</td>\n",
       "      <td>0.0</td>\n",
       "      <td>0.0</td>\n",
       "      <td>0.031101</td>\n",
       "      <td>0.0</td>\n",
       "      <td>0.0</td>\n",
       "      <td>0.0</td>\n",
       "      <td>0.0</td>\n",
       "      <td>0.0</td>\n",
       "    </tr>\n",
       "  </tbody>\n",
       "</table>\n",
       "<p>5 rows × 76 columns</p>\n",
       "</div>"
      ],
      "text/plain": [
       "#OTU ID     k__Archaea;p__Crenarchaeota;c__Thaumarchaeota  \\\n",
       "500A.Fecal                                            0.0   \n",
       "501A.Fecal                                            0.0   \n",
       "502A.Fecal                                            0.0   \n",
       "503A.Fecal                                            0.0   \n",
       "504A.Fecal                                            0.0   \n",
       "\n",
       "#OTU ID     k__Archaea;p__Euryarchaeota;c__Halobacteria  \\\n",
       "500A.Fecal                                          0.0   \n",
       "501A.Fecal                                          0.0   \n",
       "502A.Fecal                                          0.0   \n",
       "503A.Fecal                                          0.0   \n",
       "504A.Fecal                                          0.0   \n",
       "\n",
       "#OTU ID     k__Archaea;p__Euryarchaeota;c__Methanobacteria  \\\n",
       "500A.Fecal                                        0.000098   \n",
       "501A.Fecal                                        0.000597   \n",
       "502A.Fecal                                        0.000000   \n",
       "503A.Fecal                                        0.000000   \n",
       "504A.Fecal                                        0.000000   \n",
       "\n",
       "#OTU ID     k__Archaea;p__Euryarchaeota;c__Thermoplasmata  \\\n",
       "500A.Fecal                                       0.000000   \n",
       "501A.Fecal                                       0.001247   \n",
       "502A.Fecal                                       0.000000   \n",
       "503A.Fecal                                       0.000000   \n",
       "504A.Fecal                                       0.000000   \n",
       "\n",
       "#OTU ID     k__Bacteria;p__Acidobacteria;c__Acidobacteria-6  \\\n",
       "500A.Fecal                                              0.0   \n",
       "501A.Fecal                                              0.0   \n",
       "502A.Fecal                                              0.0   \n",
       "503A.Fecal                                              0.0   \n",
       "504A.Fecal                                              0.0   \n",
       "\n",
       "#OTU ID     k__Bacteria;p__Acidobacteria;c__Acidobacteriia  \\\n",
       "500A.Fecal                                             0.0   \n",
       "501A.Fecal                                             0.0   \n",
       "502A.Fecal                                             0.0   \n",
       "503A.Fecal                                             0.0   \n",
       "504A.Fecal                                             0.0   \n",
       "\n",
       "#OTU ID     k__Bacteria;p__Acidobacteria;c__Holophagae  \\\n",
       "500A.Fecal                                         0.0   \n",
       "501A.Fecal                                         0.0   \n",
       "502A.Fecal                                         0.0   \n",
       "503A.Fecal                                         0.0   \n",
       "504A.Fecal                                         0.0   \n",
       "\n",
       "#OTU ID     k__Bacteria;p__Acidobacteria;c__[Chloracidobacteria]  \\\n",
       "500A.Fecal                                                0.0      \n",
       "501A.Fecal                                                0.0      \n",
       "502A.Fecal                                                0.0      \n",
       "503A.Fecal                                                0.0      \n",
       "504A.Fecal                                                0.0      \n",
       "\n",
       "#OTU ID     k__Bacteria;p__Actinobacteria;c__Acidimicrobiia  \\\n",
       "500A.Fecal                                              0.0   \n",
       "501A.Fecal                                              0.0   \n",
       "502A.Fecal                                              0.0   \n",
       "503A.Fecal                                              0.0   \n",
       "504A.Fecal                                              0.0   \n",
       "\n",
       "#OTU ID     k__Bacteria;p__Actinobacteria;c__Actinobacteria  ...  \\\n",
       "500A.Fecal                                         0.003838  ...   \n",
       "501A.Fecal                                         0.001898  ...   \n",
       "502A.Fecal                                         0.000149  ...   \n",
       "503A.Fecal                                         0.000029  ...   \n",
       "504A.Fecal                                         0.020568  ...   \n",
       "\n",
       "#OTU ID     k__Bacteria;p__Tenericutes;c__Mollicutes  \\\n",
       "500A.Fecal                                  0.000000   \n",
       "501A.Fecal                                  0.000000   \n",
       "502A.Fecal                                  0.000000   \n",
       "503A.Fecal                                  0.000000   \n",
       "504A.Fecal                                  0.000048   \n",
       "\n",
       "#OTU ID     k__Bacteria;p__Tenericutes;c__RF3  \\\n",
       "500A.Fecal                                0.0   \n",
       "501A.Fecal                                0.0   \n",
       "502A.Fecal                                0.0   \n",
       "503A.Fecal                                0.0   \n",
       "504A.Fecal                                0.0   \n",
       "\n",
       "#OTU ID     k__Bacteria;p__Verrucomicrobia;c__Opitutae  \\\n",
       "500A.Fecal                                         0.0   \n",
       "501A.Fecal                                         0.0   \n",
       "502A.Fecal                                         0.0   \n",
       "503A.Fecal                                         0.0   \n",
       "504A.Fecal                                         0.0   \n",
       "\n",
       "#OTU ID     k__Bacteria;p__Verrucomicrobia;c__Verruco-5  \\\n",
       "500A.Fecal                                          0.0   \n",
       "501A.Fecal                                          0.0   \n",
       "502A.Fecal                                          0.0   \n",
       "503A.Fecal                                          0.0   \n",
       "504A.Fecal                                          0.0   \n",
       "\n",
       "#OTU ID     k__Bacteria;p__Verrucomicrobia;c__Verrucomicrobiae  \\\n",
       "500A.Fecal                                           0.000049    \n",
       "501A.Fecal                                           0.011497    \n",
       "502A.Fecal                                           0.000025    \n",
       "503A.Fecal                                           0.000000    \n",
       "504A.Fecal                                           0.031101    \n",
       "\n",
       "#OTU ID     k__Bacteria;p__Verrucomicrobia;c__[Pedosphaerae]  \\\n",
       "500A.Fecal                                               0.0   \n",
       "501A.Fecal                                               0.0   \n",
       "502A.Fecal                                               0.0   \n",
       "503A.Fecal                                               0.0   \n",
       "504A.Fecal                                               0.0   \n",
       "\n",
       "#OTU ID     k__Bacteria;p__Verrucomicrobia;c__[Spartobacteria]  \\\n",
       "500A.Fecal                                                0.0    \n",
       "501A.Fecal                                                0.0    \n",
       "502A.Fecal                                                0.0    \n",
       "503A.Fecal                                                0.0    \n",
       "504A.Fecal                                                0.0    \n",
       "\n",
       "#OTU ID     k__Bacteria;p__WPS-2;c__  k__Bacteria;p__WS3;c__PRR-12  \\\n",
       "500A.Fecal                       0.0                           0.0   \n",
       "501A.Fecal                       0.0                           0.0   \n",
       "502A.Fecal                       0.0                           0.0   \n",
       "503A.Fecal                       0.0                           0.0   \n",
       "504A.Fecal                       0.0                           0.0   \n",
       "\n",
       "#OTU ID     k__Bacteria;p__[Thermi];c__Deinococci  \n",
       "500A.Fecal                                    0.0  \n",
       "501A.Fecal                                    0.0  \n",
       "502A.Fecal                                    0.0  \n",
       "503A.Fecal                                    0.0  \n",
       "504A.Fecal                                    0.0  \n",
       "\n",
       "[5 rows x 76 columns]"
      ]
     },
     "execution_count": 22,
     "metadata": {},
     "output_type": "execute_result"
    }
   ],
   "source": [
    "# correlate class clostridia and bacteroidia\n",
    "df_otu_L3J = pd.read_csv(path + 'inputs/RA_twins/16S/jobs/3_taxa.summary_qiime/all_by.sample/otu_table_RA.twins_16S_all_L3.txt', sep='\\t', skiprows=1)\n",
    "df_otu_L3J = df_otu_L3J.set_index('#OTU ID')\n",
    "df_otu_L3J = df_otu_L3J.T\n",
    "df_otu_L3J = df_otu_L3J.drop(['182A.Fecal','183A.Fecal','Elutionbuffer1','Elutionbuffer2'])#\n",
    "df_otu_L3J.head()"
   ]
  },
  {
   "cell_type": "code",
   "execution_count": 23,
   "metadata": {},
   "outputs": [
    {
     "data": {
      "text/plain": [
       "[<matplotlib.lines.Line2D at 0x7fbdd5802790>]"
      ]
     },
     "execution_count": 23,
     "metadata": {},
     "output_type": "execute_result"
    },
    {
     "data": {
      "image/png": "[encoded data removed]",
      "text/plain": [
       "<Figure size 432x288 with 1 Axes>"
      ]
     },
     "metadata": {
      "needs_background": "light"
     },
     "output_type": "display_data"
    }
   ],
   "source": [
    "# Bacteroidia; x is KB, y is JW\n",
    "plt.figure()\n",
    "sns.scatterplot(x=Lx_to_df['L3']['k__Bacteria;p__Bacteroidetes;c__Bacteroidia'], y=df_otu_L3J['k__Bacteria;p__Bacteroidetes;c__Bacteroidia'])\n",
    "plt.plot([0, 1], [0, 1])\n",
    "#plt.close()"
   ]
  },
  {
   "cell_type": "code",
   "execution_count": 24,
   "metadata": {},
   "outputs": [
    {
     "data": {
      "text/plain": [
       "[<matplotlib.lines.Line2D at 0x7fbdd587e3d0>]"
      ]
     },
     "execution_count": 24,
     "metadata": {},
     "output_type": "execute_result"
    },
    {
     "data": {
      "image/png": "[encoded data removed]",
      "text/plain": [
       "<Figure size 432x288 with 1 Axes>"
      ]
     },
     "metadata": {
      "needs_background": "light"
     },
     "output_type": "display_data"
    }
   ],
   "source": [
    "# Clostridia; x is KB, y is JW\n",
    "plt.figure()\n",
    "sns.scatterplot(x=Lx_to_df['L3']['k__Bacteria;p__Firmicutes;c__Clostridia'], y=df_otu_L3J['k__Bacteria;p__Firmicutes;c__Clostridia'])\n",
    "plt.plot([0, 1], [0, 1])\n",
    "#plt.close()"
   ]
  },
  {
   "cell_type": "code",
   "execution_count": 27,
   "metadata": {},
   "outputs": [
    {
     "data": {
      "text/plain": [
       "{'T1': ('183A.Fecal', '182A.Fecal'),\n",
       " 'T2': ('501A.Fecal', '500A.Fecal'),\n",
       " 'T3': ('503A.Fecal', '502A.Fecal'),\n",
       " 'T4': ('505A.Fecal', '504A.Fecal'),\n",
       " 'T5': ('507A.Fecal', '506A.Fecal'),\n",
       " 'T6': ('509A.Fecal', '508A.Fecal'),\n",
       " 'T7': ('511A.Fecal', '510A.Fecal'),\n",
       " 'T8': ('513A.Fecal', '512A.Fecal'),\n",
       " 'T9': ('515A.Fecal', '514A.Fecal'),\n",
       " 'T10': ('517A.Fecal', '516A.Fecal')}"
      ]
     },
     "execution_count": 27,
     "metadata": {},
     "output_type": "execute_result"
    }
   ],
   "source": [
    "# plotting differential relative taxa\n",
    "\n",
    "# create dict mapping disease to samples\n",
    "diag_to_samp = {}\n",
    "\n",
    "# 'RA', 'Unaffected'\n",
    "for d in list(df_alpha.Diagnosis.values):\n",
    "    diag_to_samp[d] = list(df_alpha[df_alpha['Diagnosis'] == d].index.values)\n",
    "\n",
    "# pair_to_ids gives UA, RA pairings\n",
    "pair_to_ids"
   ]
  },
  {
   "cell_type": "code",
   "execution_count": 43,
   "metadata": {},
   "outputs": [
    {
     "name": "stdout",
     "output_type": "stream",
     "text": [
      "L3\n",
      "k__Bacteria;p__TM7;c__TM7-3\n",
      "-2.6487035448625176 0.026532521261768527\n",
      "L6\n",
      "k__Bacteria;p__Actinobacteria;c__Actinobacteria;o__Actinomycetales;f__Actinomycetaceae;g__Actinomyces\n",
      "-3.3989598248560453 0.00788631438493314\n",
      "k__Bacteria;p__Proteobacteria;c__Alphaproteobacteria;o__Rickettsiales;f__Rickettsiaceae;g__\n",
      "2.7414523330904466 0.02279334469289356\n",
      "k__Bacteria;p__TM7;c__TM7-3;o__;f__;g__\n",
      "-2.344199561315291 0.04371851778399067\n",
      "L7\n",
      "k__Bacteria;p__Actinobacteria;c__Actinobacteria;o__Actinomycetales;f__Actinomycetaceae;g__Actinomyces;s__\n",
      "-3.3989598248560453 0.00788631438493314\n",
      "k__Bacteria;p__Proteobacteria;c__Alphaproteobacteria;o__Rickettsiales;f__Rickettsiaceae;g__;s__\n",
      "2.7414523330904466 0.02279334469289356\n",
      "k__Bacteria;p__TM7;c__TM7-3;o__;f__;g__;s__\n",
      "-2.344199561315291 0.04371851778399067\n"
     ]
    }
   ],
   "source": [
    "# determine paired differences and test significance from 0 \n",
    "# get differences and p values\n",
    "Lx_to_diffs ={\n",
    "    'L3': {},#defaultdict(),\n",
    "    'L6': {},\n",
    "    'L7': {}\n",
    "}\n",
    "for l in Lx_to_df:\n",
    "    print(l)\n",
    "    for u in list(Lx_to_df[l].columns.values):\n",
    "        diffs = []\n",
    "        for v in pair_to_ids:\n",
    "            id_UA, id_RA = pair_to_ids[v]\n",
    "            diffs.append(Lx_to_df[l].loc[id_RA, u] - Lx_to_df[l].loc[id_UA, u])\n",
    "        # one-sided t-test, n.s.; RA-UA values \n",
    "        t, p =  scipy.stats.ttest_1samp(diffs, popmean=0)\n",
    "        if p < 0.05:\n",
    "            print(u)\n",
    "            print(t, p)\n",
    "        Lx_to_diffs[l][u] = diffs\n"
   ]
  },
  {
   "cell_type": "code",
   "execution_count": 39,
   "metadata": {},
   "outputs": [
    {
     "name": "stdout",
     "output_type": "stream",
     "text": [
      "-3.3989598248560453 0.00788631438493314\n"
     ]
    },
    {
     "data": {
      "text/plain": [
       "<matplotlib.axes._subplots.AxesSubplot at 0x7fbdd5252a10>"
      ]
     },
     "execution_count": 39,
     "metadata": {},
     "output_type": "execute_result"
    },
    {
     "data": {
      "image/png": "[encoded data removed]",
      "text/plain": [
       "<Figure size 432x288 with 1 Axes>"
      ]
     },
     "metadata": {
      "needs_background": "light"
     },
     "output_type": "display_data"
    }
   ],
   "source": [
    "# k__Bacteria;p__Actinobacteria;c__Actinobacteria;o__Actinomycetales;f__Actinomycetaceae;g__Actinomyces\n",
    "# enrichment in RA twins vs UA twins within pairs\n",
    "\n",
    "# values\n",
    "diffs = Lx_to_diffs['L6']['k__Bacteria;p__Actinobacteria;c__Actinobacteria;o__Actinomycetales;f__Actinomycetaceae;g__Actinomyces']\n",
    "\n",
    "# one-sided t-test, n.s.; RA-UA values \n",
    "t, p = scipy.stats.ttest_1samp(diffs,popmean=0)\n",
    "print(t, p)\n",
    "\n",
    "# boxplot\n",
    "sns.boxplot(data=diffs)\n"
   ]
  },
  {
   "cell_type": "code",
   "execution_count": 40,
   "metadata": {},
   "outputs": [
    {
     "name": "stdout",
     "output_type": "stream",
     "text": [
      "2.7414523330904466 0.02279334469289356\n"
     ]
    },
    {
     "data": {
      "text/plain": [
       "<matplotlib.axes._subplots.AxesSubplot at 0x7fbdd541a510>"
      ]
     },
     "execution_count": 40,
     "metadata": {},
     "output_type": "execute_result"
    },
    {
     "data": {
      "image/png": "[encoded data removed]",
      "text/plain": [
       "<Figure size 432x288 with 1 Axes>"
      ]
     },
     "metadata": {
      "needs_background": "light"
     },
     "output_type": "display_data"
    }
   ],
   "source": [
    "# enrichment in UA twins vs RA twins within pairs\n",
    "x = 'k__Bacteria;p__Proteobacteria;c__Alphaproteobacteria;o__Rickettsiales;f__Rickettsiaceae;g__'\n",
    "\n",
    "# values\n",
    "diffs = Lx_to_diffs['L6'][x]\n",
    "\n",
    "# one-sided t-test, n.s.; RA-UA values \n",
    "t, p = scipy.stats.ttest_1samp(diffs,popmean=0)\n",
    "print(t, p)\n",
    "\n",
    "# boxplot\n",
    "sns.boxplot(data=diffs)\n"
   ]
  },
  {
   "cell_type": "code",
   "execution_count": 45,
   "metadata": {},
   "outputs": [
    {
     "name": "stdout",
     "output_type": "stream",
     "text": [
      "-0.406619050626261 0.6937873049064738\n"
     ]
    },
    {
     "data": {
      "text/plain": [
       "<matplotlib.axes._subplots.AxesSubplot at 0x7fbdd5423cd0>"
      ]
     },
     "execution_count": 45,
     "metadata": {},
     "output_type": "execute_result"
    },
    {
     "data": {
      "image/png": "[encoded data removed]",
      "text/plain": [
       "<Figure size 432x288 with 1 Axes>"
      ]
     },
     "metadata": {
      "needs_background": "light"
     },
     "output_type": "display_data"
    }
   ],
   "source": [
    "# where is our prevotella friend\n",
    "x = 'k__Bacteria;p__Bacteroidetes;c__Bacteroidia;o__Bacteroidales;f__Prevotellaceae;g__Prevotella'#;s__copri'\n",
    "\n",
    "# values\n",
    "diffs = Lx_to_diffs['L6'][x]\n",
    "\n",
    "# one-sided t-test, n.s.; RA-UA values \n",
    "t, p = scipy.stats.ttest_1samp(diffs,popmean=0)\n",
    "print(t, p)\n",
    "\n",
    "# boxplot\n",
    "sns.boxplot(data=diffs)\n"
   ]
  },
  {
   "cell_type": "code",
   "execution_count": 46,
   "metadata": {},
   "outputs": [
    {
     "name": "stdout",
     "output_type": "stream",
     "text": [
      "1.247197933633023 0.24380258802980137\n"
     ]
    },
    {
     "data": {
      "text/plain": [
       "<matplotlib.axes._subplots.AxesSubplot at 0x7fbdd5fd8110>"
      ]
     },
     "execution_count": 46,
     "metadata": {},
     "output_type": "execute_result"
    },
    {
     "data": {
      "image/png": "[encoded data removed]",
      "text/plain": [
       "<Figure size 432x288 with 1 Axes>"
      ]
     },
     "metadata": {
      "needs_background": "light"
     },
     "output_type": "display_data"
    }
   ],
   "source": [
    "# where is our prevotella friend\n",
    "x = 'k__Bacteria;p__Bacteroidetes;c__Bacteroidia;o__Bacteroidales;f__Prevotellaceae;g__Prevotella;s__copri'\n",
    "\n",
    "# values\n",
    "diffs = Lx_to_diffs['L7'][x]\n",
    "\n",
    "# one-sided t-test, n.s.; RA-UA values \n",
    "t, p = scipy.stats.ttest_1samp(diffs,popmean=0)\n",
    "print(t, p)\n",
    "\n",
    "# boxplot\n",
    "sns.boxplot(data=diffs)\n"
   ]
  },
  {
   "cell_type": "code",
   "execution_count": 47,
   "metadata": {},
   "outputs": [
    {
     "name": "stdout",
     "output_type": "stream",
     "text": [
      "-2.6487035448625176 0.026532521261768527\n"
     ]
    },
    {
     "data": {
      "text/plain": [
       "<matplotlib.axes._subplots.AxesSubplot at 0x7fbdd614b750>"
      ]
     },
     "execution_count": 47,
     "metadata": {},
     "output_type": "execute_result"
    },
    {
     "data": {
      "image/png": "[encoded data removed]",
      "text/plain": [
       "<Figure size 432x288 with 1 Axes>"
      ]
     },
     "metadata": {
      "needs_background": "light"
     },
     "output_type": "display_data"
    }
   ],
   "source": [
    "# only L3 trend\n",
    "x='k__Bacteria;p__TM7;c__TM7-3'\n",
    "\n",
    "# values\n",
    "diffs = Lx_to_diffs['L3'][x]\n",
    "\n",
    "# one-sided t-test, n.s.; RA-UA values \n",
    "t, p = scipy.stats.ttest_1samp(diffs,popmean=0)\n",
    "print(t, p)\n",
    "\n",
    "# boxplot\n",
    "sns.boxplot(data=diffs)\n",
    "\n"
   ]
  },
  {
   "cell_type": "code",
   "execution_count": 50,
   "metadata": {},
   "outputs": [
    {
     "name": "stdout",
     "output_type": "stream",
     "text": [
      "0.7366332615874394 0.4801054591334918\n"
     ]
    },
    {
     "data": {
      "text/plain": [
       "<matplotlib.axes._subplots.AxesSubplot at 0x7fbdd60fbc50>"
      ]
     },
     "execution_count": 50,
     "metadata": {},
     "output_type": "execute_result"
    },
    {
     "data": {
      "image/png": "[encoded data removed]",
      "text/plain": [
       "<Figure size 432x288 with 1 Axes>"
      ]
     },
     "metadata": {
      "needs_background": "light"
     },
     "output_type": "display_data"
    }
   ],
   "source": [
    "x='k__Bacteria;p__Fusobacteria;c__Fusobacteriia;o__Fusobacteriales;f__Fusobacteriaceae;g__Fusobacterium'\n",
    "\n",
    "# values\n",
    "diffs = Lx_to_diffs['L6'][x]\n",
    "\n",
    "# one-sided t-test, n.s.; RA-UA values \n",
    "t, p = scipy.stats.ttest_1samp(diffs,popmean=0)\n",
    "print(t, p)\n",
    "\n",
    "# boxplot\n",
    "sns.boxplot(data=diffs)\n",
    "\n"
   ]
  },
  {
   "cell_type": "code",
   "execution_count": 66,
   "metadata": {},
   "outputs": [
    {
     "name": "stdout",
     "output_type": "stream",
     "text": [
      "0.560544363404882 0.5820188998695353\n"
     ]
    },
    {
     "data": {
      "text/plain": [
       "<matplotlib.axes._subplots.AxesSubplot at 0x7fbdd602a850>"
      ]
     },
     "execution_count": 66,
     "metadata": {},
     "output_type": "execute_result"
    },
    {
     "data": {
      "image/png": "[encoded data removed]",
      "text/plain": [
       "<Figure size 432x288 with 1 Axes>"
      ]
     },
     "metadata": {
      "needs_background": "light"
     },
     "output_type": "display_data"
    }
   ],
   "source": [
    "# grab inter RA distances\n",
    "df_raw = Lx_to_df['L6']\n",
    "\n",
    "x='k__Bacteria;p__Fusobacteria;c__Fusobacteriia;o__Fusobacteriales;f__Fusobacteriaceae;g__Fusobacterium'\n",
    "a = df_raw.loc[diag_to_samp['RA'], x]\n",
    "b = df_raw.loc[diag_to_samp['Unaffected'], x]\n",
    "\n",
    "t, p = scipy.stats.ttest_ind(a, b)\n",
    "print(t, p)\n",
    "\n",
    "sns.boxplot([a, b])"
   ]
  },
  {
   "cell_type": "code",
   "execution_count": 69,
   "metadata": {},
   "outputs": [
    {
     "data": {
      "text/plain": [
       "[<matplotlib.lines.Line2D at 0x7fbdd6cf2850>]"
      ]
     },
     "execution_count": 69,
     "metadata": {},
     "output_type": "execute_result"
    },
    {
     "data": {
      "image/png": "[encoded data removed]",
      "text/plain": [
       "<Figure size 432x288 with 1 Axes>"
      ]
     },
     "metadata": {
      "needs_background": "light"
     },
     "output_type": "display_data"
    }
   ],
   "source": [
    "x = 'k__Bacteria;p__Fusobacteria;c__Fusobacteriia;o__Fusobacteriales;f__Fusobacteriaceae;g__Fusobacterium'\n",
    "df_otu_L6J = pd.read_csv(path + 'inputs/RA_twins/16S/jobs/3_taxa.summary_qiime/all_by.sample/otu_table_RA.twins_16S_all_L6.txt', sep='\\t', skiprows=1)\n",
    "df_otu_L6J = df_otu_L6J.set_index('#OTU ID')\n",
    "df_otu_L6J = df_otu_L6J.T\n",
    "df_otu_L6J = df_otu_L6J.drop(['182A.Fecal','183A.Fecal','Elutionbuffer1','Elutionbuffer2'])#\n",
    "\n",
    "plt.figure()\n",
    "sns.scatterplot(x=Lx_to_df['L6'][x], y=df_otu_L6J[x])\n",
    "plt.plot([0, 0.1], [0, 0.1])\n",
    "#plt.close()"
   ]
  },
  {
   "cell_type": "code",
   "execution_count": 95,
   "metadata": {},
   "outputs": [
    {
     "data": {
      "image/png": "[encoded data removed]",
      "text/plain": [
       "<Figure size 432x288 with 1 Axes>"
      ]
     },
     "metadata": {},
     "output_type": "display_data"
    }
   ],
   "source": [
    "# stacked barplot\n",
    "\n",
    "# import libraries\n",
    "import seaborn as sns\n",
    "import numpy as np\n",
    "import matplotlib.pyplot as plt\n",
    "import matplotlib.patches as mpatches\n",
    "\n",
    "# load dataset\n",
    "# tips = sns.load_dataset(\"tips\")\n",
    "df = Lx_to_df['L3']\n",
    "\n",
    "df['Diagnosis'] = df_diag\n",
    "df = df[df['Diagnosis'] != 'control']\n",
    "\n",
    "otu_cols = list(Lx_to_df['L3'].columns.values)\n",
    "otu_cols.remove('Diagnosis')\n",
    "\n",
    "\n",
    "width = 0.5\n",
    "\n",
    "fig, ax = plt.subplots()\n",
    "bottom = np.zeros(2)\n",
    "\n",
    "for t in otu_cols:\n",
    "    RA_abund = np.mean(Lx_to_df['L3'].loc[diag_to_samp['RA'],t])\n",
    "    UA_abund = np.mean(Lx_to_df['L3'].loc[diag_to_samp['Unaffected'],t])\n",
    "    \n",
    "    weight_count = np.array([RA_abund,UA_abund])\n",
    "    p = ax.bar(['RA','Unaffected'], weight_count, width, label=t, bottom=bottom)\n",
    "    bottom += weight_count\n",
    "\n",
    "#ax.set_title(\"Number of penguins with above average body mass\")\n",
    "#ax.legend(loc=\"upper right\")\n",
    "\n",
    "plt.show()\n",
    "\n"
   ]
  },
  {
   "cell_type": "code",
   "execution_count": null,
   "metadata": {},
   "outputs": [],
   "source": []
  }
 ],
 "metadata": {
  "kernelspec": {
   "display_name": "Python 3",
   "language": "python",
   "name": "python3"
  },
  "language_info": {
   "codemirror_mode": {
    "name": "ipython",
    "version": 3
   },
   "file_extension": ".py",
   "mimetype": "text/x-python",
   "name": "python",
   "nbconvert_exporter": "python",
   "pygments_lexer": "ipython3",
   "version": "3.7.4"
  }
 },
 "nbformat": 4,
 "nbformat_minor": 4
}
